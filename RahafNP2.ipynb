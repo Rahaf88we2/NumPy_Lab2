{
 "cells": [
  {
   "cell_type": "code",
   "execution_count": 3,
   "id": "f67b21af-092e-48e3-906d-2e582fa246c2",
   "metadata": {},
   "outputs": [],
   "source": [
    "#Q1: Import numpy library\n",
    "import numpy as np"
   ]
  },
  {
   "cell_type": "code",
   "execution_count": 55,
   "id": "4589bf47-2911-441e-b8f4-001ed1a8c6ac",
   "metadata": {},
   "outputs": [
    {
     "data": {
      "text/plain": [
       "array([ 0.        ,  0.71428571,  1.42857143,  2.14285714,  2.85714286,\n",
       "        3.57142857,  4.28571429,  5.        ,  5.71428571,  6.42857143,\n",
       "        7.14285714,  7.85714286,  8.57142857,  9.28571429, 10.        ])"
      ]
     },
     "execution_count": 55,
     "metadata": {},
     "output_type": "execute_result"
    }
   ],
   "source": [
    "#Q2: Generate a sequence of 15 floats using linspace() function\n",
    "np.linspace(0,10,15)"
   ]
  },
  {
   "cell_type": "code",
   "execution_count": 56,
   "id": "7e245c42-5a4a-4a82-9ce9-534990556404",
   "metadata": {},
   "outputs": [
    {
     "data": {
      "text/plain": [
       "array([[[ 1.1,  2.1,  3.1],\n",
       "        [ 4.1,  5.1,  6.1]],\n",
       "\n",
       "       [[ 7.1,  8.1,  9.1],\n",
       "        [10.1, 11.1, 12.1]]])"
      ]
     },
     "execution_count": 56,
     "metadata": {},
     "output_type": "execute_result"
    }
   ],
   "source": [
    "#Q3: Create a 3-D array in shape (2, 2, 3) containing the four arrays given below\n",
    "a3D=np.array([\n",
    "               [\n",
    "                   [1.1,2.1,3.1],\n",
    "                   [4.1,5.1,6.1]\n",
    "               ],\n",
    "               [\n",
    "                   [7.1,8.1,9.1],\n",
    "                   [10.1,11.1,12.1]\n",
    "               ]\n",
    "             ])\n",
    "a3D\n"
   ]
  },
  {
   "cell_type": "code",
   "execution_count": 8,
   "id": "3c238c10-f0ab-4ccb-9986-5fc7a3fba5a0",
   "metadata": {},
   "outputs": [
    {
     "data": {
      "text/plain": [
       "numpy.ndarray"
      ]
     },
     "execution_count": 8,
     "metadata": {},
     "output_type": "execute_result"
    }
   ],
   "source": [
    "#Q4: Print the following:\n",
    "#Note: use the same array from Q3.\n",
    "#Array's type.\n",
    "#Array's elements datatype.\n",
    "#Array's shape.\n",
    "#Array's size.\n",
    "#Array's dimention.\n",
    "\n",
    "type(a3D)"
   ]
  },
  {
   "cell_type": "code",
   "execution_count": 9,
   "id": "44e93774-7147-490c-9d72-0fff43c1f9a9",
   "metadata": {},
   "outputs": [
    {
     "data": {
      "text/plain": [
       "dtype('float64')"
      ]
     },
     "execution_count": 9,
     "metadata": {},
     "output_type": "execute_result"
    }
   ],
   "source": [
    "a3D.dtype"
   ]
  },
  {
   "cell_type": "code",
   "execution_count": 10,
   "id": "a1a296a0-be14-442f-9c34-2aa2803655c2",
   "metadata": {},
   "outputs": [
    {
     "data": {
      "text/plain": [
       "(2, 2, 3)"
      ]
     },
     "execution_count": 10,
     "metadata": {},
     "output_type": "execute_result"
    }
   ],
   "source": [
    "a3D.shape"
   ]
  },
  {
   "cell_type": "code",
   "execution_count": 11,
   "id": "11b3491d-cf71-46be-aa28-2d013d6e74bf",
   "metadata": {},
   "outputs": [
    {
     "data": {
      "text/plain": [
       "12"
      ]
     },
     "execution_count": 11,
     "metadata": {},
     "output_type": "execute_result"
    }
   ],
   "source": [
    "a3D.size"
   ]
  },
  {
   "cell_type": "code",
   "execution_count": 12,
   "id": "bc3d17dd-b708-45f3-878d-5cf40d65e791",
   "metadata": {},
   "outputs": [
    {
     "data": {
      "text/plain": [
       "3"
      ]
     },
     "execution_count": 12,
     "metadata": {},
     "output_type": "execute_result"
    }
   ],
   "source": [
    "a3D.ndim"
   ]
  },
  {
   "cell_type": "code",
   "execution_count": 17,
   "id": "4b0526f0-dbdd-4ff7-922f-e715d4d4dcf7",
   "metadata": {},
   "outputs": [
    {
     "data": {
      "text/plain": [
       "array([[[[ 1.1,  2.1,  3.1],\n",
       "         [ 4.1,  5.1,  6.1]],\n",
       "\n",
       "        [[ 7.1,  8.1,  9.1],\n",
       "         [10.1, 11.1, 12.1]]]])"
      ]
     },
     "execution_count": 17,
     "metadata": {},
     "output_type": "execute_result"
    }
   ],
   "source": [
    "#Q5: Change the array dimention from 3-D to 4-D\n",
    "#Note: use the same array from Q3.\n",
    "#Create a new array to hold the changes.\n",
    "#Print the new array's dimention and shape.\n",
    "\n",
    "a4D =np.expand_dims(a3D.copy(),axis=0)\n"
   ]
  },
  {
   "cell_type": "code",
   "execution_count": 18,
   "id": "398fb436-d9df-4d74-b850-94307643db3d",
   "metadata": {},
   "outputs": [
    {
     "data": {
      "text/plain": [
       "(1, 2, 2, 3)"
      ]
     },
     "execution_count": 18,
     "metadata": {},
     "output_type": "execute_result"
    }
   ],
   "source": [
    "a4D.shape"
   ]
  },
  {
   "cell_type": "code",
   "execution_count": 19,
   "id": "2fc79c7c-f948-4624-937b-67b60101a283",
   "metadata": {},
   "outputs": [
    {
     "data": {
      "text/plain": [
       "4"
      ]
     },
     "execution_count": 19,
     "metadata": {},
     "output_type": "execute_result"
    }
   ],
   "source": [
    "a4D.ndim"
   ]
  },
  {
   "cell_type": "code",
   "execution_count": 32,
   "id": "691a019c-a8cb-4ed7-89a4-b916da65b563",
   "metadata": {},
   "outputs": [
    {
     "data": {
      "text/plain": [
       "dtype('int32')"
      ]
     },
     "execution_count": 32,
     "metadata": {},
     "output_type": "execute_result"
    }
   ],
   "source": [
    "#Q6: Change the array's elements datatype to integer\n",
    "#Note: use the same array from Q5.\n",
    "\n",
    "#Create a new array to hold the changes.\n",
    "#Print the new array.\n",
    "\n",
    "x=a3D.copy().astype('int32')\n",
    "x.dtype\n"
   ]
  },
  {
   "cell_type": "code",
   "execution_count": 38,
   "id": "e5d01ec0-8b1d-4f2c-bb62-6ce4d1aabe4c",
   "metadata": {},
   "outputs": [
    {
     "data": {
      "text/plain": [
       "array([[[ 1,  2,  3],\n",
       "        [ 4,  5,  6]],\n",
       "\n",
       "       [[ 7,  8,  9],\n",
       "        [10, 11, 12]]], dtype=int32)"
      ]
     },
     "execution_count": 38,
     "metadata": {},
     "output_type": "execute_result"
    }
   ],
   "source": [
    "x"
   ]
  },
  {
   "cell_type": "code",
   "execution_count": 35,
   "id": "6269d05b-243a-4ef9-a71e-4042bd2a776b",
   "metadata": {},
   "outputs": [
    {
     "name": "stdout",
     "output_type": "stream",
     "text": [
      "1\n",
      "2\n",
      "3\n",
      "4\n",
      "5\n",
      "6\n",
      "7\n",
      "8\n",
      "9\n",
      "10\n",
      "11\n",
      "12\n"
     ]
    }
   ],
   "source": [
    "#Q7: Print all array's elements using for loop\n",
    "#Note: use the same array from Q6.\n",
    "#Hint: use nditer()\n",
    "for item in np.nditer(x):\n",
    "    print(item)"
   ]
  },
  {
   "cell_type": "code",
   "execution_count": 36,
   "id": "4ba81c1d-bfaa-4bee-ac12-62349e886065",
   "metadata": {},
   "outputs": [
    {
     "data": {
      "text/plain": [
       "8"
      ]
     },
     "execution_count": 36,
     "metadata": {},
     "output_type": "execute_result"
    }
   ],
   "source": [
    "#Q8: Print number 8 using array slicing\n",
    "#Note: use the same array from Q6.\n",
    "\n",
    "x[1,0,1]"
   ]
  },
  {
   "cell_type": "code",
   "execution_count": 37,
   "id": "ae0c26b9-6eda-4b1f-9ae0-b1a4a0df69a0",
   "metadata": {},
   "outputs": [
    {
     "data": {
      "text/plain": [
       "array([5, 6], dtype=int32)"
      ]
     },
     "execution_count": 37,
     "metadata": {},
     "output_type": "execute_result"
    }
   ],
   "source": [
    "#Q9: Print number 5 and number 6 using array slicing\n",
    "#Note: use the same array from Q6.\n",
    "\n",
    "x[0,1,1:]"
   ]
  },
  {
   "cell_type": "code",
   "execution_count": 39,
   "id": "f27d073f-3cfb-4c60-af61-395fc1cae5c7",
   "metadata": {},
   "outputs": [
    {
     "data": {
      "text/plain": [
       "(array([1]), array([0]), array([1]))"
      ]
     },
     "execution_count": 39,
     "metadata": {},
     "output_type": "execute_result"
    }
   ],
   "source": [
    "#Q10: Search for number 8 using where()\n",
    "#Note: use the same array from Q6.\n",
    "\n",
    "#Note: where() is only used with small data.\n",
    "\n",
    "#the output represents the path of the index that leads to number 8\n",
    "\n",
    "np.where(x==8)\n"
   ]
  },
  {
   "cell_type": "code",
   "execution_count": 43,
   "id": "a90cf8e4-85ed-4136-a1cc-95b3b6786539",
   "metadata": {},
   "outputs": [
    {
     "data": {
      "text/plain": [
       "array([[[ 1,  2],\n",
       "        [ 3,  4],\n",
       "        [ 5,  6]],\n",
       "\n",
       "       [[ 7,  8],\n",
       "        [ 9, 10],\n",
       "        [11, 12]]], dtype=int32)"
      ]
     },
     "execution_count": 43,
     "metadata": {},
     "output_type": "execute_result"
    }
   ],
   "source": [
    "#Q11: Reshape the array as the following\n",
    "#Note: use the same array from Q6.\n",
    "x.reshape([2,3,2])"
   ]
  },
  {
   "cell_type": "code",
   "execution_count": 61,
   "id": "501ae224-497b-4898-b4d9-ef655e74208e",
   "metadata": {},
   "outputs": [
    {
     "data": {
      "text/plain": [
       "array([['A', 'B'],\n",
       "       ['E', 'F'],\n",
       "       ['C', 'D'],\n",
       "       ['G', 'H']], dtype='<U1')"
      ]
     },
     "execution_count": 61,
     "metadata": {},
     "output_type": "execute_result"
    }
   ],
   "source": [
    "#Q12: Join the given arrays below\n",
    "arr1 = np.array([['A', 'B'], ['E', 'F']])\n",
    "arr2 = np.array([['C', 'D'], ['G', 'H']])\n",
    "NewArray=np.concatenate([arr1,arr2])\n",
    "NewArray"
   ]
  },
  {
   "cell_type": "code",
   "execution_count": 47,
   "id": "6099d15c-a7b2-4b94-b4d6-b412ff96af48",
   "metadata": {},
   "outputs": [
    {
     "data": {
      "text/plain": [
       "array([['A', 'B', 'C', 'D'],\n",
       "       ['E', 'F', 'G', 'H']], dtype='<U1')"
      ]
     },
     "execution_count": 47,
     "metadata": {},
     "output_type": "execute_result"
    }
   ],
   "source": [
    "#Q12.2: Join the arrays along rows with axis = 1\n",
    "NewArray=np.concatenate([arr1,arr2],axis=1)\n",
    "NewArray"
   ]
  },
  {
   "cell_type": "code",
   "execution_count": 49,
   "id": "f250b496-c05b-42ed-bdca-a543640af67e",
   "metadata": {},
   "outputs": [
    {
     "data": {
      "text/plain": [
       "[array([['A'],\n",
       "        ['E'],\n",
       "        ['C'],\n",
       "        ['G']], dtype='<U1'),\n",
       " array([['B'],\n",
       "        ['F'],\n",
       "        ['D'],\n",
       "        ['H']], dtype='<U1')]"
      ]
     },
     "execution_count": 49,
     "metadata": {},
     "output_type": "execute_result"
    }
   ],
   "source": [
    "#Q13: Split the array into two arrays with axis = 1, each array should contain four arrays.\n",
    "#Note: use the same array from Q12.1\n",
    "NewArray=np.concatenate([arr1,arr2])\n",
    "NewArray\n",
    "np.split(NewArray,2,axis=1)"
   ]
  },
  {
   "cell_type": "code",
   "execution_count": null,
   "id": "8605376e-dec6-466f-9b04-c722961f0bf5",
   "metadata": {},
   "outputs": [],
   "source": []
  }
 ],
 "metadata": {
  "kernelspec": {
   "display_name": "Python 3 (ipykernel)",
   "language": "python",
   "name": "python3"
  },
  "language_info": {
   "codemirror_mode": {
    "name": "ipython",
    "version": 3
   },
   "file_extension": ".py",
   "mimetype": "text/x-python",
   "name": "python",
   "nbconvert_exporter": "python",
   "pygments_lexer": "ipython3",
   "version": "3.9.13"
  }
 },
 "nbformat": 4,
 "nbformat_minor": 5
}
